{
 "cells": [
  {
   "cell_type": "markdown",
   "metadata": {},
   "source": [
    "## Set Properties"
   ]
  },
  {
   "cell_type": "code",
   "execution_count": 6,
   "metadata": {},
   "outputs": [
    {
     "name": "stdout",
     "output_type": "stream",
     "text": [
      "<class 'set'>\n"
     ]
    }
   ],
   "source": [
    "set1 = {2,5.6,89}\n",
    "print(type(set1))"
   ]
  },
  {
   "cell_type": "code",
   "execution_count": 7,
   "metadata": {},
   "outputs": [
    {
     "name": "stdout",
     "output_type": "stream",
     "text": [
      "<class 'set'>\n"
     ]
    }
   ],
   "source": [
    "set2 = set()\n",
    "print(type(set2))"
   ]
  },
  {
   "cell_type": "code",
   "execution_count": 8,
   "metadata": {},
   "outputs": [
    {
     "name": "stdout",
     "output_type": "stream",
     "text": [
      "{True, 34, 'python', 56.2, 12}\n"
     ]
    }
   ],
   "source": [
    "set2 = {12,34,56.2,'python',True} # set is mutable, unorder nature,uniqueness(not allow duplicates)\n",
    "print(set2)"
   ]
  },
  {
   "cell_type": "markdown",
   "metadata": {},
   "source": [
    "## Functions"
   ]
  },
  {
   "cell_type": "code",
   "execution_count": 9,
   "metadata": {},
   "outputs": [
    {
     "name": "stdout",
     "output_type": "stream",
     "text": [
      "5\n",
      "10\n",
      "99\n",
      "241\n",
      "48.2\n"
     ]
    }
   ],
   "source": [
    "set2 = {20,20,67,45,99,10,45}\n",
    "print(len(set2))\n",
    "print(min(set2))\n",
    "print(max(set2))\n",
    "print(sum(set2))\n",
    "print(sum(set2)/len(set2))"
   ]
  },
  {
   "cell_type": "markdown",
   "metadata": {},
   "source": [
    "### Methods"
   ]
  },
  {
   "cell_type": "code",
   "execution_count": 16,
   "metadata": {},
   "outputs": [
    {
     "name": "stdout",
     "output_type": "stream",
     "text": [
      "['__and__', '__class__', '__class_getitem__', '__contains__', '__delattr__', '__dir__', '__doc__', '__eq__', '__format__', '__ge__', '__getattribute__', '__getstate__', '__gt__', '__hash__', '__iand__', '__init__', '__init_subclass__', '__ior__', '__isub__', '__iter__', '__ixor__', '__le__', '__len__', '__lt__', '__ne__', '__new__', '__or__', '__rand__', '__reduce__', '__reduce_ex__', '__repr__', '__ror__', '__rsub__', '__rxor__', '__setattr__', '__sizeof__', '__str__', '__sub__', '__subclasshook__', '__xor__', 'add', 'clear', 'copy', 'difference', 'difference_update', 'discard', 'intersection', 'intersection_update', 'isdisjoint', 'issubset', 'issuperset', 'pop', 'remove', 'symmetric_difference', 'symmetric_difference_update', 'union', 'update']\n"
     ]
    }
   ],
   "source": [
    "print(dir(set))"
   ]
  },
  {
   "cell_type": "markdown",
   "metadata": {},
   "source": [
    "#### Add"
   ]
  },
  {
   "cell_type": "code",
   "execution_count": 10,
   "metadata": {},
   "outputs": [
    {
     "name": "stdout",
     "output_type": "stream",
     "text": [
      "{67, 45, 15, 56, 'suji'}\n"
     ]
    }
   ],
   "source": [
    "set1 = {15,56,'suji',67}\n",
    "set1.add(45)\n",
    "print(set1)"
   ]
  },
  {
   "cell_type": "code",
   "execution_count": 15,
   "metadata": {},
   "outputs": [
    {
     "name": "stdout",
     "output_type": "stream",
     "text": [
      "suji@gmail.com email already exists, try again\n"
     ]
    }
   ],
   "source": [
    "set1 ={\"suji@gmail.com\",'jkyogi@gmail.com'}\n",
    "res1 = len(set1)\n",
    "email = input(\"enter a email id: \")\n",
    "set1.add(email)\n",
    "#print(set1)\n",
    "res2 = len(set1)\n",
    "if (res1!=res2):\n",
    "    print(\"email created successfully:\")\n",
    "else:\n",
    "    print(email,\"email already exists, try again\")"
   ]
  },
  {
   "cell_type": "markdown",
   "metadata": {},
   "source": [
    "#### UPDATE"
   ]
  },
  {
   "cell_type": "code",
   "execution_count": 19,
   "metadata": {},
   "outputs": [
    {
     "name": "stdout",
     "output_type": "stream",
     "text": [
      "{False, 'Abhi', 67, 15, 56, 'suji'}\n"
     ]
    }
   ],
   "source": [
    "set1 = {15,56,'suji',67}\n",
    "set1.update(['Abhi',False])\n",
    "print(set1)"
   ]
  },
  {
   "cell_type": "code",
   "execution_count": 21,
   "metadata": {},
   "outputs": [
    {
     "name": "stdout",
     "output_type": "stream",
     "text": [
      "{34, 67, 15, 56, 'suji'}\n"
     ]
    }
   ],
   "source": [
    "set1 = {15,56,'suji',67}\n",
    "set1.update([34,56])\n",
    "print(set1)"
   ]
  },
  {
   "cell_type": "markdown",
   "metadata": {},
   "source": [
    "#### COPY"
   ]
  },
  {
   "cell_type": "code",
   "execution_count": 22,
   "metadata": {},
   "outputs": [
    {
     "name": "stdout",
     "output_type": "stream",
     "text": [
      "{56, 67, 'suji', 15}\n"
     ]
    }
   ],
   "source": [
    "set1 = {15,56,'suji',67}\n",
    "set2 = set1.copy()\n",
    "print(set2)"
   ]
  },
  {
   "cell_type": "markdown",
   "metadata": {},
   "source": [
    "#### POP"
   ]
  },
  {
   "cell_type": "code",
   "execution_count": 25,
   "metadata": {},
   "outputs": [
    {
     "name": "stdout",
     "output_type": "stream",
     "text": [
      "{67, 'suji', 15}\n",
      "56\n"
     ]
    }
   ],
   "source": [
    "# pop is used to remove any one element from set \n",
    "set1 = {15,56,'suji',67}\n",
    "set2 = set1.pop()\n",
    "print(set1)\n",
    "print(set2)"
   ]
  },
  {
   "cell_type": "markdown",
   "metadata": {},
   "source": [
    "#### DISCARD"
   ]
  },
  {
   "cell_type": "code",
   "execution_count": 26,
   "metadata": {},
   "outputs": [
    {
     "name": "stdout",
     "output_type": "stream",
     "text": [
      "{56, 'suji', 15}\n"
     ]
    }
   ],
   "source": [
    "set1 = {15,56,'suji',67}\n",
    "set1.discard(67)\n",
    "print(set1)"
   ]
  },
  {
   "cell_type": "code",
   "execution_count": 27,
   "metadata": {},
   "outputs": [
    {
     "name": "stdout",
     "output_type": "stream",
     "text": [
      "{56, 67, 'suji', 15}\n"
     ]
    }
   ],
   "source": [
    "set1 = {15,56,'suji',67}\n",
    "set1.discard(45) # if the entered element not in the set it won't rise any error\n",
    "print(set1)"
   ]
  },
  {
   "cell_type": "markdown",
   "metadata": {},
   "source": [
    "### REMOVE"
   ]
  },
  {
   "cell_type": "code",
   "execution_count": 28,
   "metadata": {},
   "outputs": [
    {
     "name": "stdout",
     "output_type": "stream",
     "text": [
      "{56, 'suji', 15}\n"
     ]
    }
   ],
   "source": [
    "set1 = {15,56,'suji',67}\n",
    "set1.remove(67)\n",
    "print(set1)"
   ]
  },
  {
   "cell_type": "code",
   "execution_count": 30,
   "metadata": {},
   "outputs": [
    {
     "ename": "KeyError",
     "evalue": "45",
     "output_type": "error",
     "traceback": [
      "\u001b[1;31m---------------------------------------------------------------------------\u001b[0m",
      "\u001b[1;31mKeyError\u001b[0m                                  Traceback (most recent call last)",
      "\u001b[1;32mc:\\Users\\jk_yo\\My-First-Repository\\set-properties-functions.ipynb Cell 24\u001b[0m line \u001b[0;36m2\n\u001b[0;32m      <a href='vscode-notebook-cell:/c%3A/Users/jk_yo/My-First-Repository/set-properties-functions.ipynb#X41sZmlsZQ%3D%3D?line=0'>1</a>\u001b[0m set1 \u001b[39m=\u001b[39m {\u001b[39m15\u001b[39m,\u001b[39m56\u001b[39m,\u001b[39m'\u001b[39m\u001b[39msuji\u001b[39m\u001b[39m'\u001b[39m,\u001b[39m67\u001b[39m}\n\u001b[1;32m----> <a href='vscode-notebook-cell:/c%3A/Users/jk_yo/My-First-Repository/set-properties-functions.ipynb#X41sZmlsZQ%3D%3D?line=1'>2</a>\u001b[0m set1\u001b[39m.\u001b[39;49mremove(\u001b[39m45\u001b[39;49m)\n\u001b[0;32m      <a href='vscode-notebook-cell:/c%3A/Users/jk_yo/My-First-Repository/set-properties-functions.ipynb#X41sZmlsZQ%3D%3D?line=2'>3</a>\u001b[0m \u001b[39mprint\u001b[39m(set1)\n",
      "\u001b[1;31mKeyError\u001b[0m: 45"
     ]
    }
   ],
   "source": [
    "set1 = {15,56,'suji',67}\n",
    "set1.remove(45) # if the entered element not in the set it rise any error\n",
    "print(set1)"
   ]
  },
  {
   "cell_type": "markdown",
   "metadata": {},
   "source": [
    "### CLEAR"
   ]
  },
  {
   "cell_type": "code",
   "execution_count": 32,
   "metadata": {},
   "outputs": [
    {
     "name": "stdout",
     "output_type": "stream",
     "text": [
      "set()\n"
     ]
    }
   ],
   "source": [
    "set1 = {15,56,'suji',67}\n",
    "set1.clear() # clear removes all element from the set\n",
    "print(set1)"
   ]
  },
  {
   "cell_type": "markdown",
   "metadata": {},
   "source": [
    "#### UNION"
   ]
  },
  {
   "cell_type": "code",
   "execution_count": 33,
   "metadata": {},
   "outputs": [
    {
     "data": {
      "text/plain": [
       "{10, 1000, 15, 20, 56, 67, 'c++', 'suji'}"
      ]
     },
     "execution_count": 33,
     "metadata": {},
     "output_type": "execute_result"
    }
   ],
   "source": [
    "set1 = {15,56,'suji',67,10,20}\n",
    "set2 = {10,'c++',20,1000}\n",
    "set1.union(set2) # combine the two sets"
   ]
  },
  {
   "cell_type": "markdown",
   "metadata": {},
   "source": [
    "#### INTERSECTION"
   ]
  },
  {
   "cell_type": "code",
   "execution_count": 34,
   "metadata": {},
   "outputs": [
    {
     "data": {
      "text/plain": [
       "{10, 20}"
      ]
     },
     "execution_count": 34,
     "metadata": {},
     "output_type": "execute_result"
    }
   ],
   "source": [
    "\n",
    "set1 = {15,56,'suji',67,10,20}\n",
    "set2 = {10,'c++',20,1000}\n",
    "set1.intersection(set2) # it gives common elements from both the sets"
   ]
  },
  {
   "cell_type": "markdown",
   "metadata": {},
   "source": [
    "#### Difference"
   ]
  },
  {
   "cell_type": "code",
   "execution_count": 35,
   "metadata": {},
   "outputs": [
    {
     "data": {
      "text/plain": [
       "{15, 56, 67, 'suji'}"
      ]
     },
     "execution_count": 35,
     "metadata": {},
     "output_type": "execute_result"
    }
   ],
   "source": [
    "set1 = {15,56,'suji',67,10,20}\n",
    "set2 = {10,'c++',20,1000}\n",
    "set1.difference(set2) # it gives uncommon elements from set1"
   ]
  },
  {
   "cell_type": "code",
   "execution_count": 37,
   "metadata": {},
   "outputs": [
    {
     "data": {
      "text/plain": [
       "{1000, 'c++'}"
      ]
     },
     "execution_count": 37,
     "metadata": {},
     "output_type": "execute_result"
    }
   ],
   "source": [
    "set1 = {15,56,'suji',67,10,20}\n",
    "set2 = {10,'c++',20,1000}\n",
    "set2.difference(set1) # it gives uncommon elements from set2"
   ]
  },
  {
   "cell_type": "markdown",
   "metadata": {},
   "source": [
    "#### Symmetric_difference"
   ]
  },
  {
   "cell_type": "code",
   "execution_count": 38,
   "metadata": {},
   "outputs": [
    {
     "name": "stdout",
     "output_type": "stream",
     "text": [
      "{67, 1000, 15, 'c++', 56, 'suji'}\n"
     ]
    }
   ],
   "source": [
    "\n",
    "set1 = {15,56,'suji',67,10,20}\n",
    "set2 = {10,'c++',20,1000}\n",
    "print(set1.symmetric_difference(set2)) #it gives uncommon elements from set1 & set2"
   ]
  },
  {
   "cell_type": "markdown",
   "metadata": {},
   "source": [
    "#### Difference_update"
   ]
  },
  {
   "cell_type": "code",
   "execution_count": 54,
   "metadata": {},
   "outputs": [
    {
     "name": "stdout",
     "output_type": "stream",
     "text": [
      "{'c++', 1000}\n"
     ]
    }
   ],
   "source": [
    "set1 = {15,56,'suji',67,10,20}\n",
    "set2 = {10,'c++',20,1000}\n",
    "set2.difference_update(set1) # it gives uncommon elements from set2, remove common elements from set2\n",
    "print(set2)"
   ]
  },
  {
   "cell_type": "code",
   "execution_count": 53,
   "metadata": {},
   "outputs": [
    {
     "name": "stdout",
     "output_type": "stream",
     "text": [
      "{67, 56, 'suji', 15}\n"
     ]
    }
   ],
   "source": [
    "set3 = {15,56,'suji',67,10,20}\n",
    "set4 = {10,'c++',20,1000}\n",
    "set3.difference_update(set4)# it gives uncommon elements from set3, remove common elements from set3\n",
    "print(set3)"
   ]
  },
  {
   "cell_type": "markdown",
   "metadata": {},
   "source": [
    "#### Symmetric_difference_update"
   ]
  },
  {
   "cell_type": "code",
   "execution_count": 51,
   "metadata": {},
   "outputs": [
    {
     "name": "stdout",
     "output_type": "stream",
     "text": [
      "{67, 'c++', 56, 1000, 'suji', 15}\n"
     ]
    }
   ],
   "source": [
    "set3 = {15,56,'suji',67,10,20}\n",
    "set4 = {10,'c++',20,1000}\n",
    "set3.symmetric_difference_update(set4)\n",
    "print(set3)"
   ]
  },
  {
   "cell_type": "code",
   "execution_count": 52,
   "metadata": {},
   "outputs": [
    {
     "name": "stdout",
     "output_type": "stream",
     "text": [
      "{67, 1000, 15, 'c++', 56, 'suji'}\n"
     ]
    }
   ],
   "source": [
    "set3 = {15,56,'suji',67,10,20}\n",
    "set4 = {10,'c++',20,1000}\n",
    "set4.symmetric_difference_update(set3)\n",
    "print(set4)"
   ]
  },
  {
   "cell_type": "markdown",
   "metadata": {},
   "source": [
    "#### Intersection_update"
   ]
  },
  {
   "cell_type": "code",
   "execution_count": 55,
   "metadata": {},
   "outputs": [
    {
     "name": "stdout",
     "output_type": "stream",
     "text": [
      "{10, 20}\n"
     ]
    }
   ],
   "source": [
    "set3 = {15,56,'suji',67,10,20}\n",
    "set4 = {10,'c++',20,1000}\n",
    "set3.intersection_update(set4)\n",
    "print(set3)"
   ]
  },
  {
   "cell_type": "markdown",
   "metadata": {},
   "source": [
    "#### Isdisjoint"
   ]
  },
  {
   "cell_type": "code",
   "execution_count": 56,
   "metadata": {},
   "outputs": [
    {
     "data": {
      "text/plain": [
       "False"
      ]
     },
     "execution_count": 56,
     "metadata": {},
     "output_type": "execute_result"
    }
   ],
   "source": [
    "set3 = {15,56,'suji',67,10,20}\n",
    "set4 = {10,'c++',20,1000}\n",
    "set4.isdisjoint(set3)# if there is any common elements in the both the sets, result is False"
   ]
  },
  {
   "cell_type": "code",
   "execution_count": 63,
   "metadata": {},
   "outputs": [
    {
     "data": {
      "text/plain": [
       "True"
      ]
     },
     "execution_count": 63,
     "metadata": {},
     "output_type": "execute_result"
    }
   ],
   "source": [
    "set3 = {15,56,'suji',67,}\n",
    "set4 = {10,'c++',20,1000}\n",
    "set4.isdisjoint(set3)# if there is no common elements in the both the sets, result is True"
   ]
  },
  {
   "cell_type": "markdown",
   "metadata": {},
   "source": [
    "#### Issubset"
   ]
  },
  {
   "cell_type": "code",
   "execution_count": 58,
   "metadata": {},
   "outputs": [
    {
     "data": {
      "text/plain": [
       "False"
      ]
     },
     "execution_count": 58,
     "metadata": {},
     "output_type": "execute_result"
    }
   ],
   "source": [
    "set3 = {10,20,1000}\n",
    "set4 = {10,'c++',20,1000}\n",
    "set4.issubset(set3) # all elements from set4 is subset of set3"
   ]
  },
  {
   "cell_type": "code",
   "execution_count": 59,
   "metadata": {},
   "outputs": [
    {
     "data": {
      "text/plain": [
       "True"
      ]
     },
     "execution_count": 59,
     "metadata": {},
     "output_type": "execute_result"
    }
   ],
   "source": [
    "set3 = {10,20,1000}\n",
    "set4 = {10,'c++',20,1000}\n",
    "set3.issubset(set4) # all elements from set3 is subset of set4"
   ]
  },
  {
   "cell_type": "markdown",
   "metadata": {},
   "source": [
    "#### Issuperset"
   ]
  },
  {
   "cell_type": "code",
   "execution_count": 60,
   "metadata": {},
   "outputs": [
    {
     "data": {
      "text/plain": [
       "False"
      ]
     },
     "execution_count": 60,
     "metadata": {},
     "output_type": "execute_result"
    }
   ],
   "source": [
    "# It is opposite to issubset\n",
    "set3 = {10,20,1000}\n",
    "set4 = {10,'c++',20,1000}\n",
    "set3.issuperset(set4)"
   ]
  },
  {
   "cell_type": "code",
   "execution_count": 62,
   "metadata": {},
   "outputs": [
    {
     "data": {
      "text/plain": [
       "True"
      ]
     },
     "execution_count": 62,
     "metadata": {},
     "output_type": "execute_result"
    }
   ],
   "source": [
    "set3 = {10,20,1000}\n",
    "set4 = {10,'c++',20,1000}\n",
    "set4.issuperset(set3)"
   ]
  },
  {
   "cell_type": "code",
   "execution_count": null,
   "metadata": {},
   "outputs": [],
   "source": []
  }
 ],
 "metadata": {
  "kernelspec": {
   "display_name": "Python 3",
   "language": "python",
   "name": "python3"
  },
  "language_info": {
   "codemirror_mode": {
    "name": "ipython",
    "version": 3
   },
   "file_extension": ".py",
   "mimetype": "text/x-python",
   "name": "python",
   "nbconvert_exporter": "python",
   "pygments_lexer": "ipython3",
   "version": "3.11.4"
  }
 },
 "nbformat": 4,
 "nbformat_minor": 2
}
